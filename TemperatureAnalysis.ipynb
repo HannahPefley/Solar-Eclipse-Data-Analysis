{
 "cells": [
  {
   "cell_type": "code",
   "execution_count": 1,
   "id": "c777040b-c7e9-4a5a-8674-9fa9a82ab350",
   "metadata": {},
   "outputs": [
    {
     "ename": "KeyError",
     "evalue": "'PercentTotality'",
     "output_type": "error",
     "traceback": [
      "\u001b[1;31m---------------------------------------------------------------------------\u001b[0m",
      "\u001b[1;31mKeyError\u001b[0m                                  Traceback (most recent call last)",
      "File \u001b[1;32mc:\\Users\\Hannah Pefley\\AppData\\Local\\Programs\\Python\\Python312\\Lib\\site-packages\\pandas\\core\\indexes\\base.py:3805\u001b[0m, in \u001b[0;36mIndex.get_loc\u001b[1;34m(self, key)\u001b[0m\n\u001b[0;32m   3804\u001b[0m \u001b[38;5;28;01mtry\u001b[39;00m:\n\u001b[1;32m-> 3805\u001b[0m     \u001b[38;5;28;01mreturn\u001b[39;00m \u001b[38;5;28;43mself\u001b[39;49m\u001b[38;5;241;43m.\u001b[39;49m\u001b[43m_engine\u001b[49m\u001b[38;5;241;43m.\u001b[39;49m\u001b[43mget_loc\u001b[49m\u001b[43m(\u001b[49m\u001b[43mcasted_key\u001b[49m\u001b[43m)\u001b[49m\n\u001b[0;32m   3806\u001b[0m \u001b[38;5;28;01mexcept\u001b[39;00m \u001b[38;5;167;01mKeyError\u001b[39;00m \u001b[38;5;28;01mas\u001b[39;00m err:\n",
      "File \u001b[1;32mindex.pyx:167\u001b[0m, in \u001b[0;36mpandas._libs.index.IndexEngine.get_loc\u001b[1;34m()\u001b[0m\n",
      "File \u001b[1;32mindex.pyx:196\u001b[0m, in \u001b[0;36mpandas._libs.index.IndexEngine.get_loc\u001b[1;34m()\u001b[0m\n",
      "File \u001b[1;32mpandas\\\\_libs\\\\hashtable_class_helper.pxi:7081\u001b[0m, in \u001b[0;36mpandas._libs.hashtable.PyObjectHashTable.get_item\u001b[1;34m()\u001b[0m\n",
      "File \u001b[1;32mpandas\\\\_libs\\\\hashtable_class_helper.pxi:7089\u001b[0m, in \u001b[0;36mpandas._libs.hashtable.PyObjectHashTable.get_item\u001b[1;34m()\u001b[0m\n",
      "\u001b[1;31mKeyError\u001b[0m: 'PercentTotality'",
      "\nThe above exception was the direct cause of the following exception:\n",
      "\u001b[1;31mKeyError\u001b[0m                                  Traceback (most recent call last)",
      "Cell \u001b[1;32mIn[1], line 15\u001b[0m\n\u001b[0;32m      6\u001b[0m data \u001b[38;5;241m=\u001b[39m pd\u001b[38;5;241m.\u001b[39mread_csv(file_path, low_memory\u001b[38;5;241m=\u001b[39m\u001b[38;5;28;01mFalse\u001b[39;00m)\n\u001b[0;32m      8\u001b[0m balloons_of_interest \u001b[38;5;241m=\u001b[39m [\n\u001b[0;32m      9\u001b[0m     \u001b[38;5;124m\"\u001b[39m\u001b[38;5;124mEclipse Pod v2 - IMS Pre\u001b[39m\u001b[38;5;124m\"\u001b[39m,\n\u001b[0;32m     10\u001b[0m     \u001b[38;5;124m\"\u001b[39m\u001b[38;5;124mEclipse Pod v2 - IMS During\u001b[39m\u001b[38;5;124m\"\u001b[39m,\n\u001b[0;32m     11\u001b[0m     \u001b[38;5;124m\"\u001b[39m\u001b[38;5;124mEclipse Pod v2 - GRCC\u001b[39m\u001b[38;5;124m\"\u001b[39m,\n\u001b[0;32m     12\u001b[0m     \u001b[38;5;124m\"\u001b[39m\u001b[38;5;124mEclipse Pod v2 - PFW Edu\u001b[39m\u001b[38;5;124m\"\u001b[39m\n\u001b[0;32m     13\u001b[0m ]\n\u001b[1;32m---> 15\u001b[0m data[\u001b[38;5;124m'\u001b[39m\u001b[38;5;124mPercentTotality\u001b[39m\u001b[38;5;124m'\u001b[39m] \u001b[38;5;241m=\u001b[39m pd\u001b[38;5;241m.\u001b[39mto_numeric(\u001b[43mdata\u001b[49m\u001b[43m[\u001b[49m\u001b[38;5;124;43m'\u001b[39;49m\u001b[38;5;124;43mPercentTotality\u001b[39;49m\u001b[38;5;124;43m'\u001b[39;49m\u001b[43m]\u001b[49m, errors\u001b[38;5;241m=\u001b[39m\u001b[38;5;124m'\u001b[39m\u001b[38;5;124mcoerce\u001b[39m\u001b[38;5;124m'\u001b[39m)\n\u001b[0;32m     16\u001b[0m filtered_data \u001b[38;5;241m=\u001b[39m data\u001b[38;5;241m.\u001b[39mdropna(subset\u001b[38;5;241m=\u001b[39m[\u001b[38;5;124m'\u001b[39m\u001b[38;5;124mPercentTotality\u001b[39m\u001b[38;5;124m'\u001b[39m])\n\u001b[0;32m     18\u001b[0m filtered_data \u001b[38;5;241m=\u001b[39m filtered_data[\n\u001b[0;32m     19\u001b[0m     (filtered_data[\u001b[38;5;124m'\u001b[39m\u001b[38;5;124mBalloon\u001b[39m\u001b[38;5;124m'\u001b[39m]\u001b[38;5;241m.\u001b[39misin(balloons_of_interest)) \u001b[38;5;241m&\u001b[39m\n\u001b[0;32m     20\u001b[0m     (filtered_data[\u001b[38;5;124m'\u001b[39m\u001b[38;5;124mAltImputed\u001b[39m\u001b[38;5;124m'\u001b[39m] \u001b[38;5;241m>\u001b[39m\u001b[38;5;241m=\u001b[39m \u001b[38;5;241m0\u001b[39m) \u001b[38;5;241m&\u001b[39m\n\u001b[0;32m     21\u001b[0m     (filtered_data[\u001b[38;5;124m'\u001b[39m\u001b[38;5;124mAltImputed\u001b[39m\u001b[38;5;124m'\u001b[39m] \u001b[38;5;241m<\u001b[39m\u001b[38;5;241m=\u001b[39m \u001b[38;5;241m30000\u001b[39m)\n\u001b[0;32m     22\u001b[0m ]\n",
      "File \u001b[1;32mc:\\Users\\Hannah Pefley\\AppData\\Local\\Programs\\Python\\Python312\\Lib\\site-packages\\pandas\\core\\frame.py:4102\u001b[0m, in \u001b[0;36mDataFrame.__getitem__\u001b[1;34m(self, key)\u001b[0m\n\u001b[0;32m   4100\u001b[0m \u001b[38;5;28;01mif\u001b[39;00m \u001b[38;5;28mself\u001b[39m\u001b[38;5;241m.\u001b[39mcolumns\u001b[38;5;241m.\u001b[39mnlevels \u001b[38;5;241m>\u001b[39m \u001b[38;5;241m1\u001b[39m:\n\u001b[0;32m   4101\u001b[0m     \u001b[38;5;28;01mreturn\u001b[39;00m \u001b[38;5;28mself\u001b[39m\u001b[38;5;241m.\u001b[39m_getitem_multilevel(key)\n\u001b[1;32m-> 4102\u001b[0m indexer \u001b[38;5;241m=\u001b[39m \u001b[38;5;28;43mself\u001b[39;49m\u001b[38;5;241;43m.\u001b[39;49m\u001b[43mcolumns\u001b[49m\u001b[38;5;241;43m.\u001b[39;49m\u001b[43mget_loc\u001b[49m\u001b[43m(\u001b[49m\u001b[43mkey\u001b[49m\u001b[43m)\u001b[49m\n\u001b[0;32m   4103\u001b[0m \u001b[38;5;28;01mif\u001b[39;00m is_integer(indexer):\n\u001b[0;32m   4104\u001b[0m     indexer \u001b[38;5;241m=\u001b[39m [indexer]\n",
      "File \u001b[1;32mc:\\Users\\Hannah Pefley\\AppData\\Local\\Programs\\Python\\Python312\\Lib\\site-packages\\pandas\\core\\indexes\\base.py:3812\u001b[0m, in \u001b[0;36mIndex.get_loc\u001b[1;34m(self, key)\u001b[0m\n\u001b[0;32m   3807\u001b[0m     \u001b[38;5;28;01mif\u001b[39;00m \u001b[38;5;28misinstance\u001b[39m(casted_key, \u001b[38;5;28mslice\u001b[39m) \u001b[38;5;129;01mor\u001b[39;00m (\n\u001b[0;32m   3808\u001b[0m         \u001b[38;5;28misinstance\u001b[39m(casted_key, abc\u001b[38;5;241m.\u001b[39mIterable)\n\u001b[0;32m   3809\u001b[0m         \u001b[38;5;129;01mand\u001b[39;00m \u001b[38;5;28many\u001b[39m(\u001b[38;5;28misinstance\u001b[39m(x, \u001b[38;5;28mslice\u001b[39m) \u001b[38;5;28;01mfor\u001b[39;00m x \u001b[38;5;129;01min\u001b[39;00m casted_key)\n\u001b[0;32m   3810\u001b[0m     ):\n\u001b[0;32m   3811\u001b[0m         \u001b[38;5;28;01mraise\u001b[39;00m InvalidIndexError(key)\n\u001b[1;32m-> 3812\u001b[0m     \u001b[38;5;28;01mraise\u001b[39;00m \u001b[38;5;167;01mKeyError\u001b[39;00m(key) \u001b[38;5;28;01mfrom\u001b[39;00m \u001b[38;5;21;01merr\u001b[39;00m\n\u001b[0;32m   3813\u001b[0m \u001b[38;5;28;01mexcept\u001b[39;00m \u001b[38;5;167;01mTypeError\u001b[39;00m:\n\u001b[0;32m   3814\u001b[0m     \u001b[38;5;66;03m# If we have a listlike key, _check_indexing_error will raise\u001b[39;00m\n\u001b[0;32m   3815\u001b[0m     \u001b[38;5;66;03m#  InvalidIndexError. Otherwise we fall through and re-raise\u001b[39;00m\n\u001b[0;32m   3816\u001b[0m     \u001b[38;5;66;03m#  the TypeError.\u001b[39;00m\n\u001b[0;32m   3817\u001b[0m     \u001b[38;5;28mself\u001b[39m\u001b[38;5;241m.\u001b[39m_check_indexing_error(key)\n",
      "\u001b[1;31mKeyError\u001b[0m: 'PercentTotality'"
     ]
    }
   ],
   "source": [
    "import pandas as pd\n",
    "import matplotlib.pyplot as plt\n",
    "import matplotlib.dates as mdates\n",
    "\n",
    "file_path = 'AllNullsFilled.csv'\n",
    "data = pd.read_csv(file_path, low_memory=False)\n",
    "\n",
    "balloons_of_interest = [\n",
    "    \"Eclipse Pod v2 - IMS Pre\",\n",
    "    \"Eclipse Pod v2 - IMS During\",\n",
    "    \"Eclipse Pod v2 - GRCC\",\n",
    "    \"Eclipse Pod v2 - PFW Edu\"\n",
    "]\n",
    "\n",
    "data['PercentTotality'] = pd.to_numeric(data['PercentTotality'], errors='coerce')\n",
    "filtered_data = data.dropna(subset=['PercentTotality'])\n",
    "\n",
    "filtered_data = filtered_data[\n",
    "    (filtered_data['Balloon'].isin(balloons_of_interest)) &\n",
    "    (filtered_data['AltImputed'] >= 0) &\n",
    "    (filtered_data['AltImputed'] <= 30000)\n",
    "]\n",
    "\n",
    "filtered_data['Timestamp'] = pd.to_datetime(filtered_data['Timestamp']).dt.tz_localize(None)\n",
    "\n",
    "time_ranges = {\n",
    "    \"Eclipse Pod v2 - IMS Pre\": ('2024-04-08 12:00:00', '2024-04-08 13:45:00'),\n",
    "    \"Eclipse Pod v2 - IMS During\": ('2024-04-08 14:00:00', '2024-04-08 16:00:00'),\n",
    "    \"Eclipse Pod v2 - GRCC\": ('2024-04-08 14:00:00', '2024-04-08 16:00:00'),\n",
    "    \"Eclipse Pod v2 - PFW Edu\": ('2024-04-08 14:30:00', '2024-04-08 17:00:00')\n",
    "}\n",
    "\n",
    "fig, axes = plt.subplots(2, 2, figsize=(18, 12), sharex=False, sharey=True)\n",
    "\n",
    "norm = plt.Normalize(0, 1)\n",
    "\n",
    "subplot_labels = ['A', 'B', 'C', 'D']\n",
    "\n",
    "for ax, balloon, label in zip(axes.flatten(), balloons_of_interest, subplot_labels):\n",
    "    balloon_data = filtered_data[filtered_data['Balloon'] == balloon]\n",
    "    start_time, end_time = time_ranges[balloon]\n",
    "    balloon_data = balloon_data[\n",
    "        (balloon_data['Timestamp'] >= pd.Timestamp(start_time)) &\n",
    "        (balloon_data['Timestamp'] <= pd.Timestamp(end_time))\n",
    "    ]\n",
    "    if balloon_data.empty:\n",
    "        ax.text(0.5, 0.5, 'No data available', horizontalalignment='center', verticalalignment='center', transform=ax.transAxes)\n",
    "    else:\n",
    "        sc = ax.scatter(balloon_data['Timestamp'], balloon_data['Temperature (F)'], c=balloon_data['PercentTotality'], cmap='viridis_r', alpha=0.7, norm=norm)\n",
    "        ax.set_title(f'{label}: {balloon}')\n",
    "        ax.set_xlabel('Timestamp')\n",
    "        ax.set_ylabel('Temperature (F)')\n",
    "        ax.xaxis.set_major_formatter(mdates.DateFormatter('%H:%M:%S'))\n",
    "        cbar = fig.colorbar(sc, ax=ax, orientation='vertical')\n",
    "        cbar.set_label('PercentTotality')\n",
    "    ax.set_xlim(pd.Timestamp(start_time), pd.Timestamp(end_time))\n",
    "    for label in ax.get_xticklabels():\n",
    "        label.set_rotation(45)\n",
    "        label.set_ha('right')\n",
    "\n",
    "plt.tight_layout()\n",
    "plt.show()\n"
   ]
  },
  {
   "cell_type": "code",
   "execution_count": null,
   "id": "e29e2c39-03af-4d12-97bb-8a4f946a4f46",
   "metadata": {},
   "outputs": [],
   "source": []
  }
 ],
 "metadata": {
  "kernelspec": {
   "display_name": "Python 3 (ipykernel)",
   "language": "python",
   "name": "python3"
  },
  "language_info": {
   "codemirror_mode": {
    "name": "ipython",
    "version": 3
   },
   "file_extension": ".py",
   "mimetype": "text/x-python",
   "name": "python",
   "nbconvert_exporter": "python",
   "pygments_lexer": "ipython3",
   "version": "3.12.3"
  }
 },
 "nbformat": 4,
 "nbformat_minor": 5
}
